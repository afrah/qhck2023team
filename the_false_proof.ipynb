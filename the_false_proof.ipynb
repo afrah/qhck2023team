{
 "cells": [
  {
   "cell_type": "code",
   "execution_count": 6,
   "metadata": {
    "collapsed": true
   },
   "outputs": [],
   "source": [
    "import json\n",
    "import pennylane as qml\n",
    "import pennylane.numpy as np"
   ]
  },
  {
   "cell_type": "code",
   "execution_count": 7,
   "outputs": [],
   "source": [
    "dev = qml.device(\"default.qubit\", wires=2, shots=1)\n",
    "dev.operations.add(\"op\")\n",
    "dev.operations.add(\"C(op)\")"
   ],
   "metadata": {
    "collapsed": false
   }
  },
  {
   "cell_type": "code",
   "execution_count": 8,
   "outputs": [],
   "source": [
    "@qml.qnode(dev)\n",
    "def circuit(U):\n",
    "    \"\"\"This will be the circuit you will use to determine which of the two angles we have.\n",
    "    Remember that only a single shot will be executed.\n",
    "\n",
    "    Args:\n",
    "        U (qml.ops): It is the gate to discriminate between  RY(2pi/3) or RY(4pi/3).\n",
    "\n",
    "    Returns:\n",
    "        (numpy.tensor): Vector of two elements representing the output measured in each of the qubits.\n",
    "    \"\"\"\n",
    "    # Put your code here #\n",
    "    # to use U,  call 'U(wires = <wire where you want to apply the gate>)'\n",
    "    # to use Control-U, call 'qml.ctrl(U, control = <control wire>)(wires = <wire where you want to apply the gate>)'\n",
    "\n",
    "    # create the eigenvector of PauliY in wire 1\n",
    "    L =  (1 / qml.math.sqrt(2)) * np.array([[1, 1], [1j, -1j]])\n",
    "    qml.QubitUnitary(L, wires=1)\n",
    "\n",
    "    # prepare QPE\n",
    "    qml.Hadamard(wires=0)\n",
    "\n",
    "    # apply controlled-U three times to wire 1\n",
    "    for _ in range(3):\n",
    "        qml.ctrl(U, control=0)(wires=1)\n",
    "\n",
    "    # apply inverse of QFT to wire 0\n",
    "    qml.adjoint(qml.QFT(wires=0))\n",
    "\n",
    "    return qml.sample(wires=range(2))\n",
    "\n",
    "def process_output(measurement):\n",
    "    \"\"\"This function processes the output of the circuit to discriminate between gates.\n",
    "\n",
    "    Args:\n",
    "        measurement (numpy.array): Output of the previous circuit a vector of dimension 2.\n",
    "\n",
    "    Returns:\n",
    "        (int): return 2 or 4 depending on the associated RY gate.\n",
    "    \"\"\"\n",
    "    # Put your code here #\n",
    "    return 4 if measurement[0] == 0 else 2\n"
   ],
   "metadata": {
    "collapsed": false
   }
  },
  {
   "cell_type": "code",
   "execution_count": 9,
   "outputs": [],
   "source": [
    "# These functions are responsible for testing the solution.\n",
    "def run(test_case_input: str) -> str:\n",
    "    return None\n",
    "\n",
    "def check(solution_output: str, expected_output: str) -> None:\n",
    "    numbers = 2 * np.random.randint(1, 3, 5000)\n",
    "\n",
    "    def U2(wires):\n",
    "        class op(qml.operation.Operator):\n",
    "            num_wires = 1\n",
    "\n",
    "            def compute_decomposition(self, wires):\n",
    "                raise ValueError(\"You cannot decompose this gate\")\n",
    "\n",
    "            def matrix(self):\n",
    "                return qml.matrix(qml.RY(2 * np.pi / 3, wires=3))\n",
    "\n",
    "        op(wires=wires)\n",
    "        return None\n",
    "\n",
    "    def U4(wires):\n",
    "        class op(qml.operation.Operator):\n",
    "            num_wires = 1\n",
    "\n",
    "            def compute_decomposition(self, wires):\n",
    "                raise ValueError(\"You cannot decompose this gate\")\n",
    "\n",
    "            def matrix(self):\n",
    "                return qml.matrix(qml.RY(4 * np.pi / 3, wires=3))\n",
    "\n",
    "        op(wires=wires)\n",
    "        return None\n",
    "\n",
    "    output = []\n",
    "    for i in numbers:\n",
    "        if i == 2:\n",
    "            U = U2\n",
    "        else:\n",
    "            U = U4\n",
    "        out = circuit(U)\n",
    "        output.append(process_output(out))\n",
    "\n",
    "    assert np.allclose(\n",
    "        output, numbers, rtol=1e-4\n",
    "    ), \"Your circuit does not give the correct output.\"\n"
   ],
   "metadata": {
    "collapsed": false
   }
  },
  {
   "cell_type": "code",
   "execution_count": 10,
   "outputs": [],
   "source": [
    "test_cases = [['No input', 'No output']]"
   ],
   "metadata": {
    "collapsed": false
   }
  },
  {
   "cell_type": "code",
   "execution_count": 11,
   "outputs": [
    {
     "name": "stdout",
     "output_type": "stream",
     "text": [
      "Running test case 0 with input 'No input'...\n"
     ]
    },
    {
     "ename": "AssertionError",
     "evalue": "Your circuit does not give the correct output.",
     "output_type": "error",
     "traceback": [
      "\u001B[0;31m---------------------------------------------------------------------------\u001B[0m",
      "\u001B[0;31mAssertionError\u001B[0m                            Traceback (most recent call last)",
      "Cell \u001B[0;32mIn[11], line 11\u001B[0m\n\u001B[1;32m      8\u001B[0m     \u001B[38;5;28mprint\u001B[39m(\u001B[38;5;124mf\u001B[39m\u001B[38;5;124m\"\u001B[39m\u001B[38;5;124mRuntime Error. \u001B[39m\u001B[38;5;132;01m{\u001B[39;00mexc\u001B[38;5;132;01m}\u001B[39;00m\u001B[38;5;124m\"\u001B[39m)\n\u001B[1;32m     10\u001B[0m \u001B[38;5;28;01melse\u001B[39;00m:\n\u001B[0;32m---> 11\u001B[0m     \u001B[38;5;28;01mif\u001B[39;00m message \u001B[38;5;241m:=\u001B[39m \u001B[43mcheck\u001B[49m\u001B[43m(\u001B[49m\u001B[43moutput\u001B[49m\u001B[43m,\u001B[49m\u001B[43m \u001B[49m\u001B[43mexpected_output\u001B[49m\u001B[43m)\u001B[49m:\n\u001B[1;32m     12\u001B[0m         \u001B[38;5;28mprint\u001B[39m(\u001B[38;5;124mf\u001B[39m\u001B[38;5;124m\"\u001B[39m\u001B[38;5;124mWrong Answer. Have: \u001B[39m\u001B[38;5;124m'\u001B[39m\u001B[38;5;132;01m{\u001B[39;00moutput\u001B[38;5;132;01m}\u001B[39;00m\u001B[38;5;124m'\u001B[39m\u001B[38;5;124m. Want: \u001B[39m\u001B[38;5;124m'\u001B[39m\u001B[38;5;132;01m{\u001B[39;00mexpected_output\u001B[38;5;132;01m}\u001B[39;00m\u001B[38;5;124m'\u001B[39m\u001B[38;5;124m.\u001B[39m\u001B[38;5;124m\"\u001B[39m)\n\u001B[1;32m     14\u001B[0m     \u001B[38;5;28;01melse\u001B[39;00m:\n",
      "Cell \u001B[0;32mIn[9], line 43\u001B[0m, in \u001B[0;36mcheck\u001B[0;34m(solution_output, expected_output)\u001B[0m\n\u001B[1;32m     40\u001B[0m     out \u001B[38;5;241m=\u001B[39m circuit(U)\n\u001B[1;32m     41\u001B[0m     output\u001B[38;5;241m.\u001B[39mappend(process_output(out))\n\u001B[0;32m---> 43\u001B[0m \u001B[38;5;28;01massert\u001B[39;00m np\u001B[38;5;241m.\u001B[39mallclose(\n\u001B[1;32m     44\u001B[0m     output, numbers, rtol\u001B[38;5;241m=\u001B[39m\u001B[38;5;241m1e-4\u001B[39m\n\u001B[1;32m     45\u001B[0m ), \u001B[38;5;124m\"\u001B[39m\u001B[38;5;124mYour circuit does not give the correct output.\u001B[39m\u001B[38;5;124m\"\u001B[39m\n",
      "\u001B[0;31mAssertionError\u001B[0m: Your circuit does not give the correct output."
     ]
    }
   ],
   "source": [
    "for i, (input_, expected_output) in enumerate(test_cases):\n",
    "    print(f\"Running test case {i} with input '{input_}'...\")\n",
    "\n",
    "    try:\n",
    "        output = run(input_)\n",
    "\n",
    "    except Exception as exc:\n",
    "        print(f\"Runtime Error. {exc}\")\n",
    "\n",
    "    else:\n",
    "        if message := check(output, expected_output):\n",
    "            print(f\"Wrong Answer. Have: '{output}'. Want: '{expected_output}'.\")\n",
    "\n",
    "        else:\n",
    "            print(\"Correct!\")"
   ],
   "metadata": {
    "collapsed": false
   }
  },
  {
   "cell_type": "code",
   "execution_count": null,
   "outputs": [],
   "source": [],
   "metadata": {
    "collapsed": false
   }
  }
 ],
 "metadata": {
  "kernelspec": {
   "display_name": "Python 3",
   "language": "python",
   "name": "python3"
  },
  "language_info": {
   "codemirror_mode": {
    "name": "ipython",
    "version": 2
   },
   "file_extension": ".py",
   "mimetype": "text/x-python",
   "name": "python",
   "nbconvert_exporter": "python",
   "pygments_lexer": "ipython2",
   "version": "2.7.6"
  }
 },
 "nbformat": 4,
 "nbformat_minor": 0
}
