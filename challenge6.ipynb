{
 "cells": [
  {
   "cell_type": "code",
   "execution_count": 1,
   "id": "5f77473a-251a-4363-a48f-54be1220b310",
   "metadata": {},
   "outputs": [],
   "source": [
    "import json\n",
    "import pennylane as qml\n",
    "import pennylane.numpy as np"
   ]
  },
  {
   "cell_type": "code",
   "execution_count": 71,
   "id": "d9d386e2-3f82-4bdf-93ec-6050269b50a4",
   "metadata": {},
   "outputs": [],
   "source": [
    "def hamiltonian(num_wires):\n",
    "    \"\"\"A function for creating the Hamiltonian in question for a general\n",
    "    number of qubits.\n",
    "\n",
    "    Args:\n",
    "        num_wires (int): The number of qubits.\n",
    "\n",
    "    Returns:\n",
    "        (qml.Hamiltonian): A PennyLane Hamiltonian.\n",
    "    \"\"\"\n",
    "    num_wires = 3\n",
    "    obsX = []\n",
    "    obsZ = []\n",
    "    for i in range (num_wires):\n",
    "        for j in range(i):\n",
    "            if (j < i):\n",
    "                obsX.append([i,j])\n",
    "\n",
    "    for i in range (num_wires-1):\n",
    "        obsZ.append(i)\n",
    "    first = obsX.pop(0)\n",
    "    PreOp  = qml.prod(qml.PauliX(first[0]), qml.PauliX(first[1]))   \n",
    "    for item in  obsX :   \n",
    "        op = qml.prod(qml.PauliX(item[0]), qml.PauliX(item[1]))\n",
    "        PreOp = qml.op_sum(PreOp, op)\n",
    "\n",
    "    first = obsZ.pop(0)\n",
    "    if (len(obsZ) > 0):\n",
    "        second = obsZ.pop(0)\n",
    "        PreOp2  = qml.op_sum(qml.PauliZ(second),qml.PauliZ(first))   \n",
    "        for item in  obsZ :   \n",
    "            PreOp2 = qml.op_sum(PreOp2, qml.PauliZ(item))\n",
    "\n",
    "        op = qml.op_sum((1.0 / 3.0) * PreOp, -1.0 * PreOp2) \n",
    "    \n",
    "    return op #qml.Hamiltonian(coeffs, obs)"
   ]
  },
  {
   "cell_type": "code",
   "execution_count": 79,
   "id": "a2739f9a-ff7c-4f65-b19e-6c7fcb5a06d7",
   "metadata": {},
   "outputs": [],
   "source": [
    "num_wires = 8\n",
    "\n",
    "obsX = []\n",
    "obsZ = []\n",
    "for i in range (num_wires):\n",
    "    for j in range(i):\n",
    "        if (j < i):\n",
    "            obsX.append([i,j])\n",
    "\n",
    "for i in range (num_wires-1):\n",
    "    obsZ.append(i)\n",
    "first = obsX.pop(0)\n",
    "PreOp  = qml.prod(qml.PauliX(first[0]), qml.PauliX(first[1]))   \n",
    "for item in  obsX :   \n",
    "    op = qml.prod(qml.PauliX(item[0]), qml.PauliX(item[1]))\n",
    "    PreOp = qml.op_sum(PreOp, op)\n",
    "\n",
    "first = obsZ.pop(0)\n",
    "if (len(obsZ) > 0):\n",
    "    second = obsZ.pop(0)\n",
    "    PreOp2  = qml.op_sum(qml.PauliZ(second),qml.PauliZ(first))   \n",
    "    for item in  obsZ :   \n",
    "        PreOp2 = qml.op_sum(PreOp2, qml.PauliZ(item))\n",
    "\n",
    "    op = qml.op_sum((1.0 / 3.0) * PreOp, -1.0 * PreOp2) \n"
   ]
  },
  {
   "cell_type": "code",
   "execution_count": 80,
   "id": "15adea6a-8650-4fae-93f0-12945ee68de8",
   "metadata": {},
   "outputs": [
    {
     "data": {
      "text/plain": [
       "(0.3333333333333333*(((PauliX(wires=[1]) @ PauliX(wires=[0])) + (PauliX(wires=[2]) @ PauliX(wires=[0]))) + (PauliX(wires=[2]) @ PauliX(wires=[1])))) + (-1.0*(PauliZ(wires=[1]) + PauliZ(wires=[0])))"
      ]
     },
     "execution_count": 80,
     "metadata": {},
     "output_type": "execute_result"
    }
   ],
   "source": [
    "op"
   ]
  },
  {
   "cell_type": "code",
   "execution_count": 72,
   "id": "5c010ee2-cdff-43c2-b025-d7c1ac5d560a",
   "metadata": {},
   "outputs": [],
   "source": [
    "def expectation_value(num_wires):\n",
    "    \"\"\"Simulates the circuit in question and returns the expectation value of the Hamiltonian in question.\n",
    "\n",
    "    Args:\n",
    "        num_wires (int): The number of qubits.\n",
    "\n",
    "    Returns:\n",
    "        (float): The expectation value of the Hamiltonian.\n",
    "    \"\"\"\n",
    "    # Put your solution here #\n",
    "\n",
    "    # Define a device using qml.device\n",
    "    dev = qml.device(\"default.qubit\", wires=num_wires)\n",
    "\n",
    "    @qml.qnode(dev)\n",
    "    def circuit(num_wires):\n",
    "        \"\"\"A quantum circuit with Hadamard gates on every qubit and that measures the expectation value of the Hamiltonian in question. \n",
    "        \"\"\"\n",
    "        # Put Hadamard gates here #\n",
    "        for i in range (num_wires):\n",
    "            qml.Hadamard(i)\n",
    "        # Then return the expectation value of the Hamiltonian using qml.expval\n",
    "        H = hamiltonian(num_wires)\n",
    "        return qml.expval(H)\n",
    "    \n",
    "    return circuit(num_wires)"
   ]
  },
  {
   "cell_type": "code",
   "execution_count": 73,
   "id": "d6a75d40-d038-4f65-881d-060aa111b5cd",
   "metadata": {},
   "outputs": [],
   "source": [
    "# These functions are responsible for testing the solution.\n",
    "def run(test_case_input: str) -> str:\n",
    "    num_wires = json.loads(test_case_input)\n",
    "    output = expectation_value(num_wires)\n",
    "\n",
    "    return str(output)\n",
    "\n",
    "def check(solution_output: str, expected_output: str) -> None:\n",
    "    solution_output = json.loads(solution_output)\n",
    "    expected_output = json.loads(expected_output)\n",
    "    assert np.allclose(solution_output, expected_output, rtol=1e-4)"
   ]
  },
  {
   "cell_type": "code",
   "execution_count": 74,
   "id": "9e8726a6-a399-4dd3-933b-10ff1ff24987",
   "metadata": {},
   "outputs": [],
   "source": [
    "test_cases = [['8', '9.33333']]"
   ]
  },
  {
   "cell_type": "code",
   "execution_count": 75,
   "id": "5ede7fbc-7557-4afd-8b50-15a8c5addb4f",
   "metadata": {},
   "outputs": [
    {
     "name": "stdout",
     "output_type": "stream",
     "text": [
      "Running test case 0 with input '8'...\n"
     ]
    },
    {
     "ename": "AssertionError",
     "evalue": "",
     "output_type": "error",
     "traceback": [
      "\u001b[0;31m---------------------------------------------------------------------------\u001b[0m",
      "\u001b[0;31mAssertionError\u001b[0m                            Traceback (most recent call last)",
      "\u001b[0;32m/tmp/ipykernel_438/2229858678.py\u001b[0m in \u001b[0;36m<cell line: 1>\u001b[0;34m()\u001b[0m\n\u001b[1;32m      9\u001b[0m \u001b[0;34m\u001b[0m\u001b[0m\n\u001b[1;32m     10\u001b[0m     \u001b[0;32melse\u001b[0m\u001b[0;34m:\u001b[0m\u001b[0;34m\u001b[0m\u001b[0;34m\u001b[0m\u001b[0m\n\u001b[0;32m---> 11\u001b[0;31m         \u001b[0;32mif\u001b[0m \u001b[0mmessage\u001b[0m \u001b[0;34m:=\u001b[0m \u001b[0mcheck\u001b[0m\u001b[0;34m(\u001b[0m\u001b[0moutput\u001b[0m\u001b[0;34m,\u001b[0m \u001b[0mexpected_output\u001b[0m\u001b[0;34m)\u001b[0m\u001b[0;34m:\u001b[0m\u001b[0;34m\u001b[0m\u001b[0;34m\u001b[0m\u001b[0m\n\u001b[0m\u001b[1;32m     12\u001b[0m             \u001b[0mprint\u001b[0m\u001b[0;34m(\u001b[0m\u001b[0;34mf\"Wrong Answer. Have: '{output}'. Want: '{expected_output}'.\"\u001b[0m\u001b[0;34m)\u001b[0m\u001b[0;34m\u001b[0m\u001b[0;34m\u001b[0m\u001b[0m\n\u001b[1;32m     13\u001b[0m \u001b[0;34m\u001b[0m\u001b[0m\n",
      "\u001b[0;32m/tmp/ipykernel_438/2543756672.py\u001b[0m in \u001b[0;36mcheck\u001b[0;34m(solution_output, expected_output)\u001b[0m\n\u001b[1;32m      9\u001b[0m     \u001b[0msolution_output\u001b[0m \u001b[0;34m=\u001b[0m \u001b[0mjson\u001b[0m\u001b[0;34m.\u001b[0m\u001b[0mloads\u001b[0m\u001b[0;34m(\u001b[0m\u001b[0msolution_output\u001b[0m\u001b[0;34m)\u001b[0m\u001b[0;34m\u001b[0m\u001b[0;34m\u001b[0m\u001b[0m\n\u001b[1;32m     10\u001b[0m     \u001b[0mexpected_output\u001b[0m \u001b[0;34m=\u001b[0m \u001b[0mjson\u001b[0m\u001b[0;34m.\u001b[0m\u001b[0mloads\u001b[0m\u001b[0;34m(\u001b[0m\u001b[0mexpected_output\u001b[0m\u001b[0;34m)\u001b[0m\u001b[0;34m\u001b[0m\u001b[0;34m\u001b[0m\u001b[0m\n\u001b[0;32m---> 11\u001b[0;31m     \u001b[0;32massert\u001b[0m \u001b[0mnp\u001b[0m\u001b[0;34m.\u001b[0m\u001b[0mallclose\u001b[0m\u001b[0;34m(\u001b[0m\u001b[0msolution_output\u001b[0m\u001b[0;34m,\u001b[0m \u001b[0mexpected_output\u001b[0m\u001b[0;34m,\u001b[0m \u001b[0mrtol\u001b[0m\u001b[0;34m=\u001b[0m\u001b[0;36m1e-4\u001b[0m\u001b[0;34m)\u001b[0m\u001b[0;34m\u001b[0m\u001b[0;34m\u001b[0m\u001b[0m\n\u001b[0m",
      "\u001b[0;31mAssertionError\u001b[0m: "
     ]
    }
   ],
   "source": [
    "for i, (input_, expected_output) in enumerate(test_cases):\n",
    "    print(f\"Running test case {i} with input '{input_}'...\")\n",
    "\n",
    "    try:\n",
    "        output = run(input_)\n",
    "\n",
    "    except Exception as exc:\n",
    "        print(f\"Runtime Error. {exc}\")\n",
    "\n",
    "    else:\n",
    "        if message := check(output, expected_output):\n",
    "            print(f\"Wrong Answer. Have: '{output}'. Want: '{expected_output}'.\")\n",
    "\n",
    "        else:\n",
    "            print(\"Correct!\")"
   ]
  },
  {
   "cell_type": "code",
   "execution_count": null,
   "id": "6b4f109a-2c36-4db2-91c6-14ba957ab8f6",
   "metadata": {},
   "outputs": [],
   "source": []
  },
  {
   "cell_type": "code",
   "execution_count": null,
   "id": "ede32f91-9f33-43e0-a8d2-e4d9c2bc7f46",
   "metadata": {},
   "outputs": [],
   "source": []
  }
 ],
 "metadata": {
  "kernelspec": {
   "display_name": "PennyLane",
   "language": "python",
   "name": "pennylane"
  },
  "language_info": {
   "codemirror_mode": {
    "name": "ipython",
    "version": 3
   },
   "file_extension": ".py",
   "mimetype": "text/x-python",
   "name": "python",
   "nbconvert_exporter": "python",
   "pygments_lexer": "ipython3",
   "version": "3.9.15"
  }
 },
 "nbformat": 4,
 "nbformat_minor": 5
}
