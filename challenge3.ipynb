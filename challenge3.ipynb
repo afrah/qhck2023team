{
 "cells": [
  {
   "cell_type": "code",
   "execution_count": 123,
   "id": "ff91b5b7-c95d-49cb-8840-dff1b2a030f3",
   "metadata": {},
   "outputs": [],
   "source": [
    "import json\n",
    "import pennylane as qml\n",
    "import pennylane.numpy as np"
   ]
  },
  {
   "cell_type": "code",
   "execution_count": 124,
   "id": "9accab81-de16-44a0-b6f3-e8949d183774",
   "metadata": {},
   "outputs": [],
   "source": [
    "n_qubits = 9\n",
    "dev = qml.device(\"qiskit.aer\", wires=n_qubits)\n",
    "error_dict = {0: 'PauliX', 1: 'PauliY', 2: 'PauliZ'}\n",
    "\n",
    "def error(error_key, qubit):\n",
    "    \"\"\"Defines the error that is induced in the circuit.\n",
    "\n",
    "    Args:\n",
    "        error_key (int): An integer associated to the type of error (Pauli X, Y, or Z)\n",
    "        qubit (int): The qubit that the error occurs on.\n",
    "    \"\"\"\n",
    "    getattr(qml, error_dict[error_key])(qubit)\n",
    "\n",
    "@qml.qnode(dev)\n",
    "def shor(state, error_key, qubit):\n",
    "    \"\"\"A circuit defining Shor's code for error correction.\n",
    "\n",
    "    Args:\n",
    "        state (list(float)): The quantum state of the first qubit in the circuit.\n",
    "        error_key (int): An integer associated to the type of error (Pauli X, Y, or Z)\n",
    "        qubit (int): The qubit that the error occurs on.\n",
    "\n",
    "    Returns:\n",
    "        (list(float)): The expectation value of the Pauli Z operator on every qubit.\n",
    "    \"\"\"\n",
    "    qml.QubitStateVector(np.array(state), wires=0)\n",
    "\n",
    "    qml.CNOT(wires=[0,3])\n",
    "\n",
    "    qml.CNOT(wires=[0,6])\n",
    "\n",
    "    qml.Hadamard(wires=0)\n",
    "    qml.Hadamard(wires=3)\n",
    "    qml.Hadamard(wires=6)\n",
    "\n",
    "    qml.CNOT(wires=[0,1])\n",
    "    qml.CNOT(wires=[3,4])\n",
    "    qml.CNOT(wires=[6,7])\n",
    "    \n",
    "    qml.CNOT(wires=[0,2])\n",
    "    qml.CNOT(wires=[3,5])\n",
    "    qml.CNOT(wires=[6,8])\n",
    "    ## Error\n",
    "    error(error_key, qubit)\n",
    "    ##\n",
    "\n",
    "    qml.CNOT(wires=[0,1])\n",
    "    qml.CNOT(wires=[3,4])\n",
    "    qml.CNOT(wires=[6,7])\n",
    "    \n",
    "    qml.CNOT(wires=[0,2])\n",
    "    qml.CNOT(wires=[3,5])\n",
    "    qml.CNOT(wires=[6,8])\n",
    "    \n",
    "    qml.Toffoli(wires=[1,2,0])\n",
    "    qml.Toffoli(wires=[4,5,3])\n",
    "    qml.Toffoli(wires=[7,8,6])\n",
    "\n",
    "    qml.Hadamard(wires=0)\n",
    "    qml.Hadamard(wires=3)\n",
    "    qml.Hadamard(wires=6)\n",
    "\n",
    "    qml.CNOT(wires=[0,3])\n",
    "    qml.CNOT(wires=[0,6])\n",
    "    qml.Toffoli(wires=[3,6,0])\n",
    "\n",
    "    return [qml.expval(qml.PauliZ(i)) for i in range(n_qubits)]\n"
   ]
  },
  {
   "cell_type": "code",
   "execution_count": 125,
   "id": "97d8cf00-21be-4ca4-ba33-d652e4503f78",
   "metadata": {},
   "outputs": [],
   "source": [
    "    # Put your code here #"
   ]
  },
  {
   "cell_type": "code",
   "execution_count": 126,
   "id": "209b9ace-5863-4c22-ad32-ed5d2a06e889",
   "metadata": {},
   "outputs": [],
   "source": [
    "# These functions are responsible for testing the solution.\n",
    "def run(test_case_input: str) -> str:\n",
    "    state, error_key, qubit = json.loads(test_case_input)\n",
    "    output = shor(state, error_key, qubit).tolist()\n",
    "    return str(output)\n",
    "\n",
    "def check(solution_output: str, expected_output: str) -> None:\n",
    "    solution_output = json.loads(solution_output)\n",
    "    expected_output = json.loads(expected_output)\n",
    "\n",
    "    assert np.allclose(solution_output, expected_output, rtol=1e-4)"
   ]
  },
  {
   "cell_type": "code",
   "execution_count": 127,
   "id": "27e717c4-c45d-4bbc-89f5-58cb6fb9ad2e",
   "metadata": {},
   "outputs": [],
   "source": [
    "test_cases = [['[[0, 1], 0, 3]', '[-1.0,  1.0,  1.0,  1.0, -1.0, -1.0,  1.0,  1.0,  1.0]']]\n",
    "#test_cases = [['[[0, 1], 0, 3]', '[1.0,  0,  0,  0, 1.0, 1.0,  0.0,  0.0,  0.0]']]"
   ]
  },
  {
   "cell_type": "code",
   "execution_count": 128,
   "id": "3c0b67d5-d40c-4863-92d9-798d7f2a7d02",
   "metadata": {},
   "outputs": [
    {
     "name": "stdout",
     "output_type": "stream",
     "text": [
      "Running test case 0 with input '[[0, 1], 0, 3]'...\n",
      "Correct!\n"
     ]
    }
   ],
   "source": [
    "for i, (input_, expected_output) in enumerate(test_cases):\n",
    "    print(f\"Running test case {i} with input '{input_}'...\")\n",
    "    try:\n",
    "        output = run(input_)\n",
    "\n",
    "    except Exception as exc:\n",
    "        print(f\"Runtime Error. {exc}\")\n",
    "\n",
    "    else:\n",
    "        if message := check(output, expected_output):\n",
    "            print(f\"Wrong Answer. Have: '{output}'. Want: '{expected_output}'.\")\n",
    "\n",
    "        else:\n",
    "            print(\"Correct!\")"
   ]
  },
  {
   "cell_type": "code",
   "execution_count": 129,
   "id": "fc4e9984-dcc7-4794-98b7-8da02e5ebc1f",
   "metadata": {},
   "outputs": [
    {
     "data": {
      "text/html": [
       "<pre style=\"word-wrap: normal;white-space: pre;background: #fff0;line-height: 1.1;font-family: &quot;Courier New&quot;,Courier,monospace\">     ┌───────┐          ┌───┐                    ┌───┐┌───┐                »\n",
       "q_0: ┤ Ry(π) ├──■────■──┤ H ├──■────■────■────■──┤ X ├┤ H ├─────────────■──»\n",
       "     └───────┘  │    │  └───┘┌─┴─┐  │  ┌─┴─┐  │  └─┬─┘└───┘     ┌─┐     │  »\n",
       "q_1: ───────────┼────┼───────┤ X ├──┼──┤ X ├──┼────■────────────┤M├─────┼──»\n",
       "                │    │       └───┘┌─┴─┐└───┘┌─┴─┐  │            └╥┘┌─┐  │  »\n",
       "q_2: ───────────┼────┼────────────┤ X ├─────┤ X ├──■─────────────╫─┤M├──┼──»\n",
       "              ┌─┴─┐  │  ┌───┐     └───┘┌───┐└───┘     ┌───┐┌───┐ ║ └╥┘┌─┴─┐»\n",
       "q_3: ─────────┤ X ├──┼──┤ H ├──■────■──┤ X ├──■────■──┤ X ├┤ H ├─╫──╫─┤ X ├»\n",
       "              └───┘  │  └───┘┌─┴─┐  │  └───┘┌─┴─┐  │  └─┬─┘└┬─┬┘ ║  ║ └───┘»\n",
       "q_4: ────────────────┼───────┤ X ├──┼───────┤ X ├──┼────■───┤M├──╫──╫──────»\n",
       "                     │       └───┘┌─┴─┐     └───┘┌─┴─┐  │   └╥┘  ║  ║  ┌─┐ »\n",
       "q_5: ────────────────┼────────────┤ X ├──────────┤ X ├──■────╫───╫──╫──┤M├─»\n",
       "                   ┌─┴─┐┌───┐     └───┘          ├───┤┌───┐  ║   ║  ║  └╥┘ »\n",
       "q_6: ──────────────┤ X ├┤ H ├──■────■────■────■──┤ X ├┤ H ├──╫───╫──╫───╫──»\n",
       "                   └───┘└───┘┌─┴─┐  │  ┌─┴─┐  │  └─┬─┘└┬─┬┘  ║   ║  ║   ║  »\n",
       "q_7: ────────────────────────┤ X ├──┼──┤ X ├──┼────■───┤M├───╫───╫──╫───╫──»\n",
       "                             └───┘┌─┴─┐└───┘┌─┴─┐  │   └╥┘   ║   ║  ║   ║  »\n",
       "q_8: ─────────────────────────────┤ X ├─────┤ X ├──■────╫────╫───╫──╫───╫──»\n",
       "                                  └───┘     └───┘       ║    ║   ║  ║   ║  »\n",
       "c: 9/═══════════════════════════════════════════════════╩════╩═══╩══╩═══╩══»\n",
       "                                                        7    4   1  2   5  »\n",
       "«          ┌───┐┌─┐      \n",
       "«q_0: ──■──┤ X ├┤M├──────\n",
       "«       │  └─┬─┘└╥┘      \n",
       "«q_1: ──┼────┼───╫───────\n",
       "«       │    │   ║       \n",
       "«q_2: ──┼────┼───╫───────\n",
       "«       │    │   ║ ┌─┐   \n",
       "«q_3: ──┼────■───╫─┤M├───\n",
       "«       │    │   ║ └╥┘   \n",
       "«q_4: ──┼────┼───╫──╫────\n",
       "«       │    │   ║  ║    \n",
       "«q_5: ──┼────┼───╫──╫────\n",
       "«     ┌─┴─┐  │   ║  ║ ┌─┐\n",
       "«q_6: ┤ X ├──■───╫──╫─┤M├\n",
       "«     └───┘      ║  ║ └╥┘\n",
       "«q_7: ───────────╫──╫──╫─\n",
       "«      ┌─┐       ║  ║  ║ \n",
       "«q_8: ─┤M├───────╫──╫──╫─\n",
       "«      └╥┘       ║  ║  ║ \n",
       "«c: 9/══╩════════╩══╩══╩═\n",
       "«       8        0  3  6 </pre>"
      ],
      "text/plain": [
       "     ┌───────┐          ┌───┐                    ┌───┐┌───┐                »\n",
       "q_0: ┤ Ry(π) ├──■────■──┤ H ├──■────■────■────■──┤ X ├┤ H ├─────────────■──»\n",
       "     └───────┘  │    │  └───┘┌─┴─┐  │  ┌─┴─┐  │  └─┬─┘└───┘     ┌─┐     │  »\n",
       "q_1: ───────────┼────┼───────┤ X ├──┼──┤ X ├──┼────■────────────┤M├─────┼──»\n",
       "                │    │       └───┘┌─┴─┐└───┘┌─┴─┐  │            └╥┘┌─┐  │  »\n",
       "q_2: ───────────┼────┼────────────┤ X ├─────┤ X ├──■─────────────╫─┤M├──┼──»\n",
       "              ┌─┴─┐  │  ┌───┐     └───┘┌───┐└───┘     ┌───┐┌───┐ ║ └╥┘┌─┴─┐»\n",
       "q_3: ─────────┤ X ├──┼──┤ H ├──■────■──┤ X ├──■────■──┤ X ├┤ H ├─╫──╫─┤ X ├»\n",
       "              └───┘  │  └───┘┌─┴─┐  │  └───┘┌─┴─┐  │  └─┬─┘└┬─┬┘ ║  ║ └───┘»\n",
       "q_4: ────────────────┼───────┤ X ├──┼───────┤ X ├──┼────■───┤M├──╫──╫──────»\n",
       "                     │       └───┘┌─┴─┐     └───┘┌─┴─┐  │   └╥┘  ║  ║  ┌─┐ »\n",
       "q_5: ────────────────┼────────────┤ X ├──────────┤ X ├──■────╫───╫──╫──┤M├─»\n",
       "                   ┌─┴─┐┌───┐     └───┘          ├───┤┌───┐  ║   ║  ║  └╥┘ »\n",
       "q_6: ──────────────┤ X ├┤ H ├──■────■────■────■──┤ X ├┤ H ├──╫───╫──╫───╫──»\n",
       "                   └───┘└───┘┌─┴─┐  │  ┌─┴─┐  │  └─┬─┘└┬─┬┘  ║   ║  ║   ║  »\n",
       "q_7: ────────────────────────┤ X ├──┼──┤ X ├──┼────■───┤M├───╫───╫──╫───╫──»\n",
       "                             └───┘┌─┴─┐└───┘┌─┴─┐  │   └╥┘   ║   ║  ║   ║  »\n",
       "q_8: ─────────────────────────────┤ X ├─────┤ X ├──■────╫────╫───╫──╫───╫──»\n",
       "                                  └───┘     └───┘       ║    ║   ║  ║   ║  »\n",
       "c: 9/═══════════════════════════════════════════════════╩════╩═══╩══╩═══╩══»\n",
       "                                                        7    4   1  2   5  »\n",
       "«          ┌───┐┌─┐      \n",
       "«q_0: ──■──┤ X ├┤M├──────\n",
       "«       │  └─┬─┘└╥┘      \n",
       "«q_1: ──┼────┼───╫───────\n",
       "«       │    │   ║       \n",
       "«q_2: ──┼────┼───╫───────\n",
       "«       │    │   ║ ┌─┐   \n",
       "«q_3: ──┼────■───╫─┤M├───\n",
       "«       │    │   ║ └╥┘   \n",
       "«q_4: ──┼────┼───╫──╫────\n",
       "«       │    │   ║  ║    \n",
       "«q_5: ──┼────┼───╫──╫────\n",
       "«     ┌─┴─┐  │   ║  ║ ┌─┐\n",
       "«q_6: ┤ X ├──■───╫──╫─┤M├\n",
       "«     └───┘      ║  ║ └╥┘\n",
       "«q_7: ───────────╫──╫──╫─\n",
       "«      ┌─┐       ║  ║  ║ \n",
       "«q_8: ─┤M├───────╫──╫──╫─\n",
       "«      └╥┘       ║  ║  ║ \n",
       "«c: 9/══╩════════╩══╩══╩═\n",
       "«       8        0  3  6 "
      ]
     },
     "execution_count": 129,
     "metadata": {},
     "output_type": "execute_result"
    }
   ],
   "source": [
    "dev._circuit.draw()"
   ]
  },
  {
   "cell_type": "code",
   "execution_count": 130,
   "id": "f6dfdcef-06eb-4ade-be28-b908313bac58",
   "metadata": {},
   "outputs": [
    {
     "data": {
      "text/plain": [
       "'[-1.0, 1.0, 1.0, 1.0, -1.0, -1.0, 1.0, 1.0, 1.0]'"
      ]
     },
     "execution_count": 130,
     "metadata": {},
     "output_type": "execute_result"
    }
   ],
   "source": [
    "output"
   ]
  },
  {
   "cell_type": "code",
   "execution_count": null,
   "id": "818beac0-bb14-4b8e-aac0-2af9cbc54dba",
   "metadata": {},
   "outputs": [],
   "source": []
  },
  {
   "cell_type": "code",
   "execution_count": null,
   "id": "7d528acc-0d91-44f5-b24f-7eec9b0ac329",
   "metadata": {},
   "outputs": [],
   "source": []
  }
 ],
 "metadata": {
  "kernelspec": {
   "display_name": "PennyLane",
   "language": "python",
   "name": "pennylane"
  },
  "language_info": {
   "codemirror_mode": {
    "name": "ipython",
    "version": 3
   },
   "file_extension": ".py",
   "mimetype": "text/x-python",
   "name": "python",
   "nbconvert_exporter": "python",
   "pygments_lexer": "ipython3",
   "version": "3.9.15"
  }
 },
 "nbformat": 4,
 "nbformat_minor": 5
}
