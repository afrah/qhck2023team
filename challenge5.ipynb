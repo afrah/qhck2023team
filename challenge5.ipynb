{
 "cells": [
  {
   "cell_type": "code",
   "execution_count": 33,
   "id": "2a573992-6384-4e02-9ef5-9970a04a715e",
   "metadata": {},
   "outputs": [],
   "source": [
    "import json\n",
    "import pennylane as qml\n",
    "import pennylane.numpy as np"
   ]
  },
  {
   "cell_type": "code",
   "execution_count": 34,
   "id": "040e5da2-d64c-4051-a630-167b0903a44a",
   "metadata": {},
   "outputs": [],
   "source": [
    "def hydrogen_hamiltonian(coordinates, charge):\n",
    "    \"\"\"Calculates the qubit Hamiltonian of the hydrogen molecule.\n",
    "    \n",
    "    Args:\n",
    "        coordinates (list(float)): Cartesian coordinates of each hydrogen molecule.\n",
    "        charge (int): The electric charge given to the hydrogen molecule.\n",
    "\n",
    "    Returns:\n",
    "        (qml.Hamiltonian): A PennyLane Hamiltonian.\n",
    "    \"\"\"\n",
    "    return qml.qchem.molecular_hamiltonian([\"H\", \"H\"], coordinates, charge, basis=\"STO-3G\")[0]\n",
    "\n",
    "def num_electrons(charge):\n",
    "    \"\"\"The total number of electrons in the hydrogen molecule.\n",
    "    \n",
    "    Args:\n",
    "        charge (int): The electric charge given to the hydrogen molecule.\n",
    "\n",
    "    Returns: \n",
    "        (int): The number of electrons.\n",
    "    \"\"\"\n",
    "    if charge <= 0:\n",
    "        return ( np.abs(charge) + 2)\n",
    "    else :\n",
    "        return np.abs(charge) - 2"
   ]
  },
  {
   "cell_type": "code",
   "execution_count": 35,
   "id": "1ce6ca52-3db9-4c35-8c5c-dac710d75624",
   "metadata": {},
   "outputs": [],
   "source": [
    "def hf(electrons, num_qubits):\n",
    "    \"\"\"Calculates the Hartree-Fock state of the hydrogen molecule.\n",
    "    \n",
    "    Args:\n",
    "        electrons (int): The number of electrons in the hydrogen molecule.\n",
    "        num_qubits (int): The number of qubits needed to represent the hydrogen molecule Hamiltonian.\n",
    "\n",
    "    Returns:\n",
    "        (numpy.tensor): The HF state.\n",
    "    \"\"\"\n",
    "    # Put your solution here #\n",
    "    \n",
    "    hf = qml.qchem.hf_state(electrons, num_qubits)\n",
    "    return hf"
   ]
  },
  {
   "cell_type": "code",
   "execution_count": 56,
   "id": "08d3e07d-1d76-488f-b6df-39560ac26a64",
   "metadata": {},
   "outputs": [],
   "source": [
    "def run_VQE(coordinates, charge):\n",
    "    \"\"\"Performs a VQE routine for the given hydrogen molecule.\n",
    "\n",
    "    Args:\n",
    "        coordinates (list(float)): Cartesian coordinates of each hydrogen molecule.\n",
    "        charge (int): The electric charge given to the hydrogen molecule.:\n",
    "\n",
    "    Returns:\n",
    "        (float): The expectation value of the hydrogen Hamiltonian.\n",
    "    \"\"\"\n",
    "    hamiltonian = hydrogen_hamiltonian(np.array(coordinates), charge)\n",
    "\n",
    "    electrons = num_electrons(charge)\n",
    "    num_qubits = len(hamiltonian.wires)\n",
    "\n",
    "    hf_state = hf(electrons, num_qubits)\n",
    "    # singles and doubles are used to make the AllSinglesDoubles template\n",
    "    singles, doubles = qml.qchem.excitations(electrons, num_qubits)\n",
    "\n",
    "    dev = qml.device(\"default.qubit\", wires=num_qubits)\n",
    "\n",
    "    @qml.qnode(dev)\n",
    "    def cost(weights):\n",
    "        \"\"\"A circuit with tunable parameters/weights that measures the expectation value of the hydrogen Hamiltonian.\n",
    "        Args:\n",
    "            weights (numpy.array): An array of tunable parameters.\n",
    "\n",
    "        Returns:\n",
    "            (float): The expectation value of the hydrogen Hamiltonian.\n",
    "        \"\"\"\n",
    "        # Put your solution here #\n",
    "        qml.BasisState(hf_state, wires=hamiltonian.wires)\n",
    "        qml.DoubleExcitation(weights, wires=hamiltonian.wires)\n",
    "        return qml.expval(hamiltonian)\n",
    "    \n",
    "    np.random.seed = 1234\n",
    "    weights = np.random.normal(0, np.pi, len(singles) + len(doubles), requires_grad=True )\n",
    "    opt = qml.AdamOptimizer(0.5)\n",
    "\n",
    "    for _ in range(200):\n",
    "        weights = opt.step(cost, weights)\n",
    "\n",
    "    return cost(weights)"
   ]
  },
  {
   "cell_type": "code",
   "execution_count": 57,
   "id": "7a8b45cd-fcdd-4d3e-bc37-4545c2a506d8",
   "metadata": {},
   "outputs": [],
   "source": [
    "# These functions are responsible for testing the solution.\n",
    "def run(test_case_input: str) -> str:\n",
    "    coordinates, charge = json.loads(test_case_input)\n",
    "    energy = run_VQE(coordinates, charge)\n",
    "\n",
    "    return str(energy)\n",
    "\n",
    "def check(solution_output: str, expected_output: str) -> None:\n",
    "    solution_output = json.loads(solution_output)\n",
    "    expected_output = json.loads(expected_output)\n",
    "    assert np.allclose(solution_output, expected_output, rtol=1e-3)"
   ]
  },
  {
   "cell_type": "code",
   "execution_count": 58,
   "id": "bfe5d163-298a-4fc1-a761-34721b1790ef",
   "metadata": {},
   "outputs": [],
   "source": [
    "test_cases = [['[[0.0, 0.0, -0.8, 0.0, 0.0, 0.8], -1]', '-0.53168359'], ['[[0.0, 0.0, -0.6614, 0.0, 0.0, 0.6614], 0]', '-1.13618883']]"
   ]
  },
  {
   "cell_type": "code",
   "execution_count": 59,
   "id": "4afc4c31-32be-48f8-a59d-b37c3683d37a",
   "metadata": {},
   "outputs": [
    {
     "name": "stdout",
     "output_type": "stream",
     "text": [
      "Running test case 0 with input '[[0.0, 0.0, -0.8, 0.0, 0.0, 0.8], -1]'...\n",
      "Runtime Error. Expectation values of Hamiltonians for interface!=None are not supported together with parameter broadcasting yet\n",
      "Running test case 1 with input '[[0.0, 0.0, -0.6614, 0.0, 0.0, 0.6614], 0]'...\n",
      "Runtime Error. Expectation values of Hamiltonians for interface!=None are not supported together with parameter broadcasting yet\n"
     ]
    }
   ],
   "source": [
    "for i, (input_, expected_output) in enumerate(test_cases):\n",
    "    print(f\"Running test case {i} with input '{input_}'...\")\n",
    "\n",
    "    try:\n",
    "        output = run(input_)\n",
    "\n",
    "    except Exception as exc:\n",
    "        print(f\"Runtime Error. {exc}\")\n",
    "\n",
    "    else:\n",
    "        if message := check(output, expected_output):\n",
    "            print(f\"Wrong Answer. Have: '{output}'. Want: '{expected_output}'.\")\n",
    "\n",
    "        else:\n",
    "            print(\"Correct!\")"
   ]
  },
  {
   "cell_type": "code",
   "execution_count": null,
   "id": "6ac3661e-7aad-46bb-8d04-47ca2bcd8129",
   "metadata": {},
   "outputs": [],
   "source": []
  },
  {
   "cell_type": "code",
   "execution_count": null,
   "id": "f33cbb08-2f79-4aac-ba9f-e76caeec56d0",
   "metadata": {},
   "outputs": [],
   "source": []
  }
 ],
 "metadata": {
  "kernelspec": {
   "display_name": "PennyLane",
   "language": "python",
   "name": "pennylane"
  },
  "language_info": {
   "codemirror_mode": {
    "name": "ipython",
    "version": 3
   },
   "file_extension": ".py",
   "mimetype": "text/x-python",
   "name": "python",
   "nbconvert_exporter": "python",
   "pygments_lexer": "ipython3",
   "version": "3.9.15"
  }
 },
 "nbformat": 4,
 "nbformat_minor": 5
}
