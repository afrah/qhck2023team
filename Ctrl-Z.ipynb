{
 "cells": [
  {
   "cell_type": "markdown",
   "id": "377965ec-88d5-4068-9b0c-f4cfd9809bed",
   "metadata": {},
   "source": [
    "# Backstory\n",
    "Zenda and Reece work at Trine's Designs, a startup run by the eccentric inventor Doc Trine. Trine promises to tell Zenda and Reece about a revolutionary new type of quantum resource she has invented called \"timbits\". Before explaining timbits, she insists on demonstrating Bennett's Laws of Infodynamics, governing the behaviour of quantum information. \"Only then,\" she says, \"will the power of timbits be revealed in their full glory.\"\n",
    "\n",
    "## Reversible computation"
   ]
  },
  {
   "cell_type": "markdown",
   "id": "96605a59-8e5c-420d-a2b4-cda6fec2aba8",
   "metadata": {},
   "source": [
    "## Laws of Infodynamics \n",
    "### Part I: The First Law\n",
    "Some classical logical operations are irreversible. For instance,\n",
    "\n",
    "so given that , we can't tell the values of  and \n",
    "\n",
    "AND\n",
    "Put differently, there is no way to press ctrl-Z and learn what went in! In contrast, quantum circuits are built out of unitary gates, which are always reversible. We can always press ctrl-Z! How can we encode something irreversible, like an AND gate, into a quantum circuit? Aptly, the answer is a controlled  gate! It encodes the classical operation into a phase:\n",
    "\n",
    "A phase by itself is unobservable, so we need to interfere this state with some others to detect it. A simple way to do this is to use a controlled controlled  gate, with some extra operations on either side:\n",
    "\n"
   ]
  },
  {
   "cell_type": "markdown",
   "id": "62a02d28-6e1f-4777-8b5d-356b230126f5",
   "metadata": {},
   "source": [
    "### Your job: \n",
    "figure out which operations to apply so that measurement on the first qubit is guaranteed to be in state \n",
    "\n",
    "### Challenge code\n",
    "In the code below, you are given a function called AND(j, k). You must complete this circuit and provide gates which implement a classical AND gate. More precisely, if the second and third qubits are in states  and , the circuit should place the first qubit in state \n",
    "\n",
    "## Inputs\n",
    "As input to this problem, you are given two bits j (int) and k (int), encoded onto the second and third qubits for you.\n",
    "\n",
    "## Output\n",
    "Your circuit must place the first qubit in basis state AND(j, k). This will be checked using qml.probs(wires = 0), which gives [1, 0] for  and [0, 1] for \n",
    "\n",
    "If your solution matches the correct one within the given tolerance specified in check (in this case it's a 1e-4 relative error tolerance), the output will be \"Correct!\" Otherwise, you will receive a \"Wrong answer\" prompt."
   ]
  },
  {
   "cell_type": "code",
   "execution_count": null,
   "id": "bbc4ca7e-dc64-40e0-bacb-4158d7a026b8",
   "metadata": {},
   "outputs": [],
   "source": []
  },
  {
   "cell_type": "code",
   "execution_count": 1,
   "id": "05a9a0f7-fb9a-4b6b-85f6-be5a19ed509e",
   "metadata": {},
   "outputs": [],
   "source": [
    "import json\n",
    "import pennylane as qml\n",
    "import pennylane.numpy as np"
   ]
  },
  {
   "cell_type": "code",
   "execution_count": 25,
   "id": "5763131e-fd9a-4fb5-a798-820185954273",
   "metadata": {},
   "outputs": [],
   "source": [
    "dev = qml.device(\"default.qubit\", wires=3)\n",
    "\n",
    "@qml.qnode(dev)\n",
    "def AND(j, k):\n",
    "    \"\"\"Implements the AND gate using quantum gates and computes j AND k.\n",
    "\n",
    "    Args:\n",
    "        j (int): A classical bit, either 0 or 1. \n",
    "        k (int): A classical bit, either 0 or 1. \n",
    "\n",
    "    Returns:\n",
    "        float: The probabilities of measurement on wire 0.\n",
    "    \"\"\"\n",
    "\n",
    "    if j == 1:\n",
    "        qml.PauliX(wires=1)\n",
    "    if k == 1:\n",
    "        qml.PauliX(wires=2)\n",
    "        \n",
    "    # put your code here\n",
    "    qml.ctrl(qml.PauliX, control =[1, 2])(wires = [0])\n",
    "\n",
    "    qml.ctrl(qml.PauliZ, control =[0, 1])(wires = [2])\n",
    "    \n",
    "    # Your code here #\n",
    "    #qml.ctrl(qml.PauliX, control =[1, 2])(wires = [0])\n",
    "\n",
    "    return qml.probs(wires=0)\n",
    "        "
   ]
  },
  {
   "cell_type": "code",
   "execution_count": 26,
   "id": "8f86dd35-e92f-4d2c-80e1-177f7de009a8",
   "metadata": {},
   "outputs": [],
   "source": [
    "# These functions are responsible for testing the solution.\n",
    "def run(test_case_input: str) -> str:\n",
    "    j, k = json.loads(test_case_input)\n",
    "    output = AND(j, k).tolist()\n",
    "\n",
    "    return str(output)\n",
    "\n",
    "def check(solution_output: str, expected_output: str) -> None:\n",
    "    solution_output = json.loads(solution_output)\n",
    "    expected_output = json.loads(expected_output)\n",
    "    assert np.allclose(solution_output, expected_output, rtol=1e-4), \"Your classical operation isn't behaving correctly!\""
   ]
  },
  {
   "cell_type": "code",
   "execution_count": 27,
   "id": "62fef3d7-55e4-4770-85ae-ccd8e0835272",
   "metadata": {},
   "outputs": [],
   "source": [
    "test_cases = [['[0, 0]', '[1, 0]'], ['[1, 1]', '[0, 1]']]"
   ]
  },
  {
   "cell_type": "code",
   "execution_count": 28,
   "id": "8be101aa-6a19-4e7e-9047-f2f6a40b6cbd",
   "metadata": {},
   "outputs": [
    {
     "name": "stdout",
     "output_type": "stream",
     "text": [
      "Running test case 0 with input '[0, 0]'...\n",
      "[1.0, 0.0]\n",
      "Correct!\n",
      "Running test case 1 with input '[1, 1]'...\n",
      "[0.0, 1.0]\n",
      "Correct!\n"
     ]
    }
   ],
   "source": [
    "for i, (input_, expected_output) in enumerate(test_cases):\n",
    "    print(f\"Running test case {i} with input '{input_}'...\")\n",
    "\n",
    "    try:\n",
    "        output = run(input_)\n",
    "        print(output)\n",
    "    except Exception as exc:\n",
    "        print(f\"Runtime Error. {exc}\")\n",
    "\n",
    "    else:\n",
    "        if message := check(output, expected_output):\n",
    "            print(f\"Wrong Answer. Have: '{output}'. Want: '{expected_output}'.\")\n",
    "\n",
    "        else:\n",
    "            print(\"Correct!\")"
   ]
  },
  {
   "cell_type": "code",
   "execution_count": null,
   "id": "f0a520c4-a59c-42f2-9674-942dada54847",
   "metadata": {},
   "outputs": [],
   "source": []
  }
 ],
 "metadata": {
  "kernelspec": {
   "display_name": "PennyLane",
   "language": "python",
   "name": "pennylane"
  },
  "language_info": {
   "codemirror_mode": {
    "name": "ipython",
    "version": 3
   },
   "file_extension": ".py",
   "mimetype": "text/x-python",
   "name": "python",
   "nbconvert_exporter": "python",
   "pygments_lexer": "ipython3",
   "version": "3.9.15"
  }
 },
 "nbformat": 4,
 "nbformat_minor": 5
}
