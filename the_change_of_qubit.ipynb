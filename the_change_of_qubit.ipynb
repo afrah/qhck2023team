{
 "cells": [
  {
   "cell_type": "code",
   "execution_count": 1,
   "outputs": [],
   "source": [
    "import json\n",
    "import pennylane as qml\n",
    "import pennylane.numpy as np"
   ],
   "metadata": {
    "collapsed": false
   }
  },
  {
   "cell_type": "code",
   "execution_count": 13,
   "outputs": [],
   "source": [
    "def circuit_left():\n",
    "    \"\"\"\n",
    "    This function corresponds to the circuit on the left-hand side of the diagram in the\n",
    "    description. Simply place the necessary operations, you do not have to return anything.\n",
    "    \"\"\"\n",
    "    # nullify noise (PauliX) on wires 1 and 2\n",
    "    qml.Hadamard(wires=1)\n",
    "    qml.Hadamard(wires=2)\n",
    "    # TODO: nullify noise on wire 0\n",
    "\n",
    "def circuit_right():\n",
    "    \"\"\"\n",
    "    This function corresponds to the circuit on the right-hand side of the diagram in the\n",
    "    description. Simply place the necessary operations, you do not have to return anything.\n",
    "    \"\"\"\n",
    "    # nullify noise (PauliX) on wires 1 and 2\n",
    "    # HXH = Z in case of noise (PauliX), and HH = I in case of no noise.\n",
    "    qml.Hadamard(wires=1)\n",
    "    qml.Hadamard(wires=2)\n",
    "    # TODO: nullify noise on wire 0\n",
    "\n",
    "    # create bell+ state\n",
    "    qml.Hadamard(wires=1)\n",
    "    qml.CNOT(wires=[1,2])\n",
    "\n",
    "    # teleport\n",
    "    qml.CNOT(wires=[0,1])\n",
    "    qml.Hadamard(wires=0)\n",
    "    m_0 = qml.measure(0)\n",
    "    # TODO: pass information to wire 1 first\n",
    "    qml.cond(m_0 == 1, qml.PauliZ)(wires=2)\n",
    "\n",
    "    m_1 = qml.measure(1)\n",
    "    qml.cond(m_1 == 1, qml.PauliX)(wires=2)\n"
   ],
   "metadata": {
    "collapsed": false
   }
  },
  {
   "cell_type": "code",
   "execution_count": 14,
   "outputs": [],
   "source": [
    "def U():\n",
    "    \"\"\"This operator generates a PauliX gate on a random qubit\"\"\"\n",
    "    qml.PauliX(wires=np.random.randint(3))\n",
    "\n",
    "\n",
    "dev = qml.device(\"default.qubit\", wires=3)\n",
    "\n",
    "@qml.qnode(dev)\n",
    "def circuit(alpha, beta, gamma):\n",
    "    \"\"\"Total circuit joining each block.\n",
    "\n",
    "    Args:\n",
    "        alpha (float): The first parameter of a U3 gate.\n",
    "        beta (float):The second parameter of a U3 gate.\n",
    "        gamma (float): The third parameter of a U3 gate.\n",
    "\n",
    "    Returns:\n",
    "        (float): The expectation value of an observable.\n",
    "    \"\"\"\n",
    "    qml.U3(alpha, beta, gamma, wires=0)\n",
    "    circuit_left()\n",
    "    U()\n",
    "    circuit_right()\n",
    "\n",
    "    # Here we are returning the expected value with respect to any observable,\n",
    "    # the choice of observable is not important in this exercise.\n",
    "\n",
    "    return qml.expval(0.5 * qml.PauliZ(2) - qml.PauliY(2))\n"
   ],
   "metadata": {
    "collapsed": false
   }
  },
  {
   "cell_type": "code",
   "execution_count": 16,
   "outputs": [
    {
     "data": {
      "text/plain": "tensor(0.20807342, requires_grad=True)"
     },
     "execution_count": 16,
     "metadata": {},
     "output_type": "execute_result"
    }
   ],
   "source": [
    "circuit(2.0, 1.0, 3.0)"
   ],
   "metadata": {
    "collapsed": false
   }
  },
  {
   "cell_type": "code",
   "execution_count": 5,
   "outputs": [],
   "source": [
    "# These functions are responsible for testing the solution.\n",
    "def run(test_case_input: str) -> str:\n",
    "    angles = json.loads(test_case_input)\n",
    "    output = circuit(*angles)\n",
    "    return str(output)\n",
    "\n",
    "def check(solution_output: str, expected_output: str) -> None:\n",
    "\n",
    "    solution_output = json.loads(solution_output)\n",
    "    expected_output = json.loads(expected_output)\n",
    "    b = np.allclose(solution_output, expected_output, atol=2e-1)\n",
    "    print(b)\n",
    "    assert b, \"The expected output is not quite right.\"\n",
    "\n",
    "    ops = circuit.tape.operations\n",
    "\n",
    "    for op in ops:\n",
    "        assert not (0 in op.wires and 2 in op.wires), \"Invalid connection between qubits.\"\n",
    "\n",
    "    assert circuit.tape.observables[0].wires == qml.wires.Wires(2), \"Measurement on wrong qubit.\"\n"
   ],
   "metadata": {
    "collapsed": false
   }
  },
  {
   "cell_type": "code",
   "execution_count": 6,
   "outputs": [],
   "source": [
    "test_cases = [['[2.0,1.0,3.0]', '-0.97322'], ['[-0.5,1.2,-1.2]', '0.88563'], ['[0.22,3.0,2.1]', '0.457152'], ['[2.22,3.1,-3.3]', '-0.335397'], ['[-0.2,-0.1,3.4]', '0.470199'], ['[-1.2,-1.1,0.4]', '-0.6494612']]"
   ],
   "metadata": {
    "collapsed": false
   }
  },
  {
   "cell_type": "code",
   "execution_count": 9,
   "outputs": [
    {
     "name": "stdout",
     "output_type": "stream",
     "text": [
      "Running test case 0 with input '[2.0,1.0,3.0]'...\n",
      "(output, expected_output): (-0.9732208195078625,-0.97322)\n",
      "True\n"
     ]
    },
    {
     "ename": "AssertionError",
     "evalue": "Invalid connection between qubits.",
     "output_type": "error",
     "traceback": [
      "\u001B[0;31m---------------------------------------------------------------------------\u001B[0m",
      "\u001B[0;31mAssertionError\u001B[0m                            Traceback (most recent call last)",
      "Cell \u001B[0;32mIn[9], line 12\u001B[0m\n\u001B[1;32m     10\u001B[0m \u001B[38;5;28;01melse\u001B[39;00m:\n\u001B[1;32m     11\u001B[0m     \u001B[38;5;28mprint\u001B[39m(\u001B[38;5;124mf\u001B[39m\u001B[38;5;124m\"\u001B[39m\u001B[38;5;124m(output, expected_output): (\u001B[39m\u001B[38;5;132;01m{\u001B[39;00moutput\u001B[38;5;132;01m}\u001B[39;00m\u001B[38;5;124m,\u001B[39m\u001B[38;5;132;01m{\u001B[39;00mexpected_output\u001B[38;5;132;01m}\u001B[39;00m\u001B[38;5;124m)\u001B[39m\u001B[38;5;124m\"\u001B[39m)\n\u001B[0;32m---> 12\u001B[0m     \u001B[38;5;28;01mif\u001B[39;00m message \u001B[38;5;241m:=\u001B[39m \u001B[43mcheck\u001B[49m\u001B[43m(\u001B[49m\u001B[43moutput\u001B[49m\u001B[43m,\u001B[49m\u001B[43m \u001B[49m\u001B[43mexpected_output\u001B[49m\u001B[43m)\u001B[49m:\n\u001B[1;32m     13\u001B[0m         \u001B[38;5;28mprint\u001B[39m(\u001B[38;5;124mf\u001B[39m\u001B[38;5;124m\"\u001B[39m\u001B[38;5;124mWrong Answer. Have: \u001B[39m\u001B[38;5;124m'\u001B[39m\u001B[38;5;132;01m{\u001B[39;00moutput\u001B[38;5;132;01m}\u001B[39;00m\u001B[38;5;124m'\u001B[39m\u001B[38;5;124m. Want: \u001B[39m\u001B[38;5;124m'\u001B[39m\u001B[38;5;132;01m{\u001B[39;00mexpected_output\u001B[38;5;132;01m}\u001B[39;00m\u001B[38;5;124m'\u001B[39m\u001B[38;5;124m.\u001B[39m\u001B[38;5;124m\"\u001B[39m)\n\u001B[1;32m     15\u001B[0m     \u001B[38;5;28;01melse\u001B[39;00m:\n",
      "Cell \u001B[0;32mIn[5], line 18\u001B[0m, in \u001B[0;36mcheck\u001B[0;34m(solution_output, expected_output)\u001B[0m\n\u001B[1;32m     15\u001B[0m ops \u001B[38;5;241m=\u001B[39m circuit\u001B[38;5;241m.\u001B[39mtape\u001B[38;5;241m.\u001B[39moperations\n\u001B[1;32m     17\u001B[0m \u001B[38;5;28;01mfor\u001B[39;00m op \u001B[38;5;129;01min\u001B[39;00m ops:\n\u001B[0;32m---> 18\u001B[0m     \u001B[38;5;28;01massert\u001B[39;00m \u001B[38;5;129;01mnot\u001B[39;00m (\u001B[38;5;241m0\u001B[39m \u001B[38;5;129;01min\u001B[39;00m op\u001B[38;5;241m.\u001B[39mwires \u001B[38;5;129;01mand\u001B[39;00m \u001B[38;5;241m2\u001B[39m \u001B[38;5;129;01min\u001B[39;00m op\u001B[38;5;241m.\u001B[39mwires), \u001B[38;5;124m\"\u001B[39m\u001B[38;5;124mInvalid connection between qubits.\u001B[39m\u001B[38;5;124m\"\u001B[39m\n\u001B[1;32m     20\u001B[0m \u001B[38;5;28;01massert\u001B[39;00m circuit\u001B[38;5;241m.\u001B[39mtape\u001B[38;5;241m.\u001B[39mobservables[\u001B[38;5;241m0\u001B[39m]\u001B[38;5;241m.\u001B[39mwires \u001B[38;5;241m==\u001B[39m qml\u001B[38;5;241m.\u001B[39mwires\u001B[38;5;241m.\u001B[39mWires(\u001B[38;5;241m2\u001B[39m), \u001B[38;5;124m\"\u001B[39m\u001B[38;5;124mMeasurement on wrong qubit.\u001B[39m\u001B[38;5;124m\"\u001B[39m\n",
      "\u001B[0;31mAssertionError\u001B[0m: Invalid connection between qubits."
     ]
    }
   ],
   "source": [
    "for i, (input_, expected_output) in enumerate(test_cases):\n",
    "    print(f\"Running test case {i} with input '{input_}'...\")\n",
    "\n",
    "    try:\n",
    "        output = run(input_)\n",
    "\n",
    "    except Exception as exc:\n",
    "        print(f\"Runtime Error. {exc}\")\n",
    "\n",
    "    else:\n",
    "        print(f\"(output, expected_output): ({output},{expected_output})\")\n",
    "        if message := check(output, expected_output):\n",
    "            print(f\"Wrong Answer. Have: '{output}'. Want: '{expected_output}'.\")\n",
    "\n",
    "        else:\n",
    "            print(\"Correct!\")"
   ],
   "metadata": {
    "collapsed": false
   }
  }
 ],
 "metadata": {
  "kernelspec": {
   "display_name": "Python 3",
   "language": "python",
   "name": "python3"
  },
  "language_info": {
   "codemirror_mode": {
    "name": "ipython",
    "version": 2
   },
   "file_extension": ".py",
   "mimetype": "text/x-python",
   "name": "python",
   "nbconvert_exporter": "python",
   "pygments_lexer": "ipython2",
   "version": "2.7.6"
  }
 },
 "nbformat": 4,
 "nbformat_minor": 0
}
